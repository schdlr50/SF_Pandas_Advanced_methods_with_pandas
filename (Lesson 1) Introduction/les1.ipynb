{
 "cells": [
  {
   "cell_type": "code",
   "execution_count": 14,
   "metadata": {},
   "outputs": [
    {
     "name": "stdout",
     "output_type": "stream",
     "text": [
      "4359\n",
      "<class 'pandas.core.frame.DataFrame'>\n",
      "RangeIndex: 13580 entries, 0 to 13579\n",
      "Data columns (total 26 columns):\n",
      " #   Column           Non-Null Count  Dtype   \n",
      "---  ------           --------------  -----   \n",
      " 0   Suburb           13580 non-null  category\n",
      " 1   Rooms            13580 non-null  int64   \n",
      " 2   Type             13580 non-null  category\n",
      " 3   Price            13580 non-null  float64 \n",
      " 4   Method           13580 non-null  category\n",
      " 5   SellerG          13580 non-null  category\n",
      " 6   Date             13580 non-null  int64   \n",
      " 7   Distance         13580 non-null  float64 \n",
      " 8   Postcode         13580 non-null  int64   \n",
      " 9   Bedroom          13580 non-null  int64   \n",
      " 10  Bathroom         13580 non-null  int64   \n",
      " 11  Car              13580 non-null  int64   \n",
      " 12  Landsize         13580 non-null  float64 \n",
      " 13  BuildingArea     13580 non-null  float64 \n",
      " 14  CouncilArea      12211 non-null  category\n",
      " 15  Lattitude        13580 non-null  float64 \n",
      " 16  Longtitude       13580 non-null  float64 \n",
      " 17  Regionname       13580 non-null  category\n",
      " 18  Propertycount    13580 non-null  int64   \n",
      " 19  MeanRoomsSquare  13580 non-null  float64 \n",
      " 20  AreaRatio        13580 non-null  float64 \n",
      " 21  MonthSale        13580 non-null  category\n",
      " 22  AgeBuilding      13580 non-null  int64   \n",
      " 23  WeekdaySale      13580 non-null  category\n",
      " 24  StreetType       13580 non-null  category\n",
      " 25  Weekend          13580 non-null  category\n",
      "dtypes: category(10), float64(8), int64(8)\n",
      "memory usage: 1.8 MB\n"
     ]
    }
   ],
   "source": [
    "import pandas as pd\n",
    "melb_data_fe=pd.read_csv('data/melb_data_fe.csv', sep=',')\n",
    "\n",
    "# Преобразовываем наш  исходный файл\n",
    "\n",
    "melb_data_fe['Date']=pd.to_datetime(melb_data_fe['Date']).dt.quarter # бьем на кварталы\n",
    "quart=melb_data_fe['Date'].value_counts() # объявляем переменку в окторой указываем кол-во по квартально \n",
    "print(quart.iloc[1]) # выводим инфо по 2-му по популярности кварталу\n",
    "\n",
    "# Добавляем category \n",
    "exception_list=['Date', 'Rooms', 'Bedroom', 'Bathroom', 'Car'] # создал лист признаков-исключений\n",
    "max_unic_categ=150 # обозначил лимит уникальных значений\n",
    "for col in melb_data_fe.columns: \n",
    "    if col not in exception_list and melb_data_fe[col].nunique() < max_unic_categ:\n",
    "        melb_data_fe[col]=melb_data_fe[col].astype('category')\n",
    "melb_data_fe.info()"
   ]
  }
 ],
 "metadata": {
  "kernelspec": {
   "display_name": "Python 3",
   "language": "python",
   "name": "python3"
  },
  "language_info": {
   "name": "python",
   "version": "3.11.2"
  },
  "orig_nbformat": 4
 },
 "nbformat": 4,
 "nbformat_minor": 2
}
