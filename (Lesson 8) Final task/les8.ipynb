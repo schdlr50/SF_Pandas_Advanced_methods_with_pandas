{
 "cells": [
  {
   "cell_type": "code",
   "execution_count": 6,
   "metadata": {},
   "outputs": [
    {
     "name": "stdout",
     "output_type": "stream",
     "text": [
      "<class 'pandas.core.frame.DataFrame'>\n",
      "RangeIndex: 100836 entries, 0 to 100835\n",
      "Data columns (total 8 columns):\n",
      " #   Column        Non-Null Count   Dtype  \n",
      "---  ------        --------------   -----  \n",
      " 0   Unnamed: 0    100836 non-null  int64  \n",
      " 1   userId        100836 non-null  int64  \n",
      " 2   movieId       100836 non-null  int64  \n",
      " 3   rating        100836 non-null  float64\n",
      " 4   date          100836 non-null  object \n",
      " 5   title         100836 non-null  object \n",
      " 6   genres        100836 non-null  object \n",
      " 7   year_release  100818 non-null  float64\n",
      "dtypes: float64(2), int64(3), object(3)\n",
      "memory usage: 6.2+ MB\n"
     ]
    },
    {
     "data": {
      "text/plain": [
       "userId\n",
       "599    524\n",
       "414    482\n",
       "448    403\n",
       "380    399\n",
       "474    395\n",
       "      ... \n",
       "578     15\n",
       "12      15\n",
       "85      13\n",
       "214     13\n",
       "245     13\n",
       "Name: genres, Length: 610, dtype: int64"
      ]
     },
     "execution_count": 6,
     "metadata": {},
     "output_type": "execute_result"
    }
   ],
   "source": [
    "import pandas as pd\n",
    "ratings_movies=pd.read_csv('data/ratings_movies.csv', sep=',')\n",
    "#библиотека для регулярных выражений\n",
    "import re \n",
    "def get_year_release(arg):\n",
    "    #находим все слова по шаблону \"(DDDD)\"\n",
    "    candidates = re.findall(r'\\(\\d{4}\\)', arg) \n",
    "    # проверяем число вхождений\n",
    "    if len(candidates) > 0:\n",
    "        #если число вхождений больше 0,\n",
    "\t#очищаем строку от знаков \"(\" и \")\"\n",
    "        year = candidates[0].replace('(', '')\n",
    "        year = year.replace(')', '')\n",
    "        return int(year)\n",
    "    else:\n",
    "        #если год не указан, возвращаем None\n",
    "        return None\n",
    "\n",
    "# Задание 1.\n",
    "# Создайте в таблице новый признак year_release, который соответствует году выпуска фильма. \n",
    "# У скольких фильмов не указан год их выпуска?\n",
    "ratings_movies['year_release']=ratings_movies['title'].apply(get_year_release)\n",
    "ratings_movies.info()\n",
    "\n",
    "# Задание 2. Какой фильм, выпущенный в 1999 году, получил наименьшую среднюю оценку зрителей? \n",
    "# В качестве ответа запишите название этого фильма без указания года его выпуска.\n",
    "mask1=ratings_movies['year_release']==1999 #обозначил маску на 1999\n",
    "ratings_movies[mask1].groupby('title')['rating'].mean().sort_values()\n",
    "\n",
    "# Задание 3.\n",
    "# Какое сочетание жанров фильмов (genres), выпущенных в 2010 году, получило наименьшую среднюю оценку (rating)?\n",
    "# Запишите сочетание так же, как оно указано в таблице (через разделитель |, без пробелов).\n",
    "mask2=ratings_movies['year_release']==2010\n",
    "ratings_movies[mask2].groupby('genres')['rating'].mean().sort_values()\n",
    "\n",
    "# Задание 4.\n",
    "# Какой пользователь (userId) посмотрел наибольшее количество различных (уникальных) комбинаций жанров (genres) \n",
    "# фильмов? В качестве ответа запишите идентификатор этого пользователя.\n",
    "ratings_movies.groupby('userId')['genres'].nunique().sort_values(ascending=False)\n",
    "\n",
    "# Задание 5.\n",
    "# Найдите пользователя, который выставил наименьшее количество оценок, но его средняя оценка фильмам наибольшая.\n",
    "# В качестве ответа укажите идентификатор этого пользователя.\n",
    "# Чтобы рассчитать несколько параметров для каждого пользователя (количество оценок и среднюю оценку), \n",
    "# можно воспользоваться методом agg() на сгруппированных данных.\n"
   ]
  }
 ],
 "metadata": {
  "kernelspec": {
   "display_name": "Python 3",
   "language": "python",
   "name": "python3"
  },
  "language_info": {
   "codemirror_mode": {
    "name": "ipython",
    "version": 3
   },
   "file_extension": ".py",
   "mimetype": "text/x-python",
   "name": "python",
   "nbconvert_exporter": "python",
   "pygments_lexer": "ipython3",
   "version": "3.9.10"
  },
  "orig_nbformat": 4
 },
 "nbformat": 4,
 "nbformat_minor": 2
}
