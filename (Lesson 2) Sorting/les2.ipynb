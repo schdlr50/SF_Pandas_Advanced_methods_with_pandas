{
 "cells": [
  {
   "cell_type": "code",
   "execution_count": 21,
   "metadata": {},
   "outputs": [
    {
     "data": {
      "text/plain": [
       "1300000"
      ]
     },
     "execution_count": 21,
     "metadata": {},
     "output_type": "execute_result"
    }
   ],
   "source": [
    "import pandas as pd\n",
    "melb_data_fe=pd.read_csv('data/melb_data_fe.csv', sep=',')\n",
    "melb_data_fe.sort_values(by='Price').head(10) # сортировка по цене на снижение\n",
    "melb_data_fe.sort_values(by='Date', ascending=False).head(10) # sort by date to descending\n",
    "\n",
    "# можно и список передовать - как фильтр многозадачныйю. передовать необходимо в by именно СПИСКОМ!\n",
    "# отсортируем таблицу сначала по возрастанию расстояния от центра города (Distance), а затем — по возрастанию цены объекта (Price). \n",
    "# Для того чтобы вывод был более наглядным, выделим каждую десятую строку из столбцов Distance и Price результирующей таблицы\n",
    "melb_data_fe.sort_values(by=['Distance', 'Price']).loc[::10, ['Distance', 'Price']]\n",
    "\n",
    "# КОМБИНИРОВАНИЕ СОРТИРОВКИ С ФИЛЬТРАЦИЕЙ\n",
    "\n",
    "# Практическое задание\n",
    "# Компания McGrath поручила нам восстановить хронологию продаж таунхаусов, у которых площадь участка существенно больше площади здания, чтобы понять, \n",
    "# как часто компания справляется с таким сложным видом объектов. Объекты, проданные в один и тот же день, мы бы хотели сортировать по значению коэффициента соотношения площадей.\n",
    "\n",
    "mask1=melb_data_fe['AreaRatio'] < -0.8 # обозначил условие по коэф соотношения площадь участка к площади здания\n",
    "mask2=melb_data_fe['Type']=='townhouse' # условие по таунхаусам\n",
    "mask3=melb_data_fe['SellerG']=='McGrath' # условие по фирме\n",
    "melb_data_fe[mask1 & mask2 & mask3].sort_values( #сортировка по всем условиям\n",
    "    by=['Date', 'AreaRatio'], # конкретно по датам и коэфу\n",
    "    ascending=[True, False], # Результат отсортируем по дате продажи (Date) в порядке возрастания, а после проведём сортировку по убыванию коэффициента соотношения площадей\n",
    "    ignore_index=True # обновим старые данные на новые\n",
    ").loc[:, ['Date', 'AreaRatio']] # ну и вывод по нашим столбцам\n",
    "\n",
    "# Задание 1.\n",
    "# Произведите сортировку столбца AreaRatio по убыванию. При этом индексы полученной таблицы замените на новые. \n",
    "# Какое значение площади здания находится в строке 1558? Ответ округлите до целого числа.\n",
    "\n",
    "melb_data_fe.sort_values(by=['AreaRatio'], ascending=False, ignore_index=True)\n",
    "melb_data_fe.loc[1558, 'BuildingArea']\n",
    "\n",
    "# Задание 2.\n",
    "# Найдите таунхаусы (Type) с количеством жилых комнат (Rooms) больше 2. \n",
    "# Отсортируйте полученную таблицу сначала по возрастанию числа комнат, а затем по убыванию средней площади комнат (MeanRoomsSquare). Индексы таблицы замените на новые.\n",
    "# Какая цена будет у объекта в строке 18? Ответ запишите в виде целого числа.\n",
    "\n",
    "condition1=melb_data_fe['Type']=='townhouse'\n",
    "condition2=melb_data_fe['Rooms'] > 2\n",
    "int(melb_data_fe[condition1 & condition2].sort_values(\n",
    "    by=['Rooms', 'MeanRoomsSquare'],\n",
    "    ascending=[True, False],\n",
    "    ignore_index=True\n",
    ").loc[18, ['Price']])"
   ]
  }
 ],
 "metadata": {
  "kernelspec": {
   "display_name": "Python 3",
   "language": "python",
   "name": "python3"
  },
  "language_info": {
   "codemirror_mode": {
    "name": "ipython",
    "version": 3
   },
   "file_extension": ".py",
   "mimetype": "text/x-python",
   "name": "python",
   "nbconvert_exporter": "python",
   "pygments_lexer": "ipython3",
   "version": "3.11.2"
  },
  "orig_nbformat": 4
 },
 "nbformat": 4,
 "nbformat_minor": 2
}
